{
 "cells": [
  {
   "cell_type": "markdown",
   "id": "3ea47a18",
   "metadata": {},
   "source": [
    "Medium\n",
    "\n",
    "The count-and-say sequence is a sequence of digit strings defined by the recursive formula:\n",
    "\n",
    "countAndSay(1) = \"1\"\n",
    "countAndSay(n) is the run-length encoding of countAndSay(n - 1).\n",
    "Run-length encoding (RLE) is a string compression method that works by replacing consecutive identical characters (repeated 2 or more times) with the concatenation of the character and the number marking the count of the characters (length of the run). For example, to compress the string \"3322251\" we replace \"33\" with \"23\", replace \"222\" with \"32\", replace \"5\" with \"15\" and replace \"1\" with \"11\". Thus the compressed string becomes \"23321511\".\n",
    "\n",
    "Given a positive integer n, return the nth element of the count-and-say sequence.\n",
    "\n",
    " \n",
    "\n",
    "Example 1:\n",
    "\n",
    "Input: n = 4\n",
    "\n",
    "Output: \"1211\"\n",
    "\n",
    "Explanation:\n",
    "\n",
    "countAndSay(1) = \"1\"\n",
    "countAndSay(2) = RLE of \"1\" = \"11\"\n",
    "countAndSay(3) = RLE of \"11\" = \"21\"\n",
    "countAndSay(4) = RLE of \"21\" = \"1211\"\n",
    "Example 2:\n",
    "\n",
    "Input: n = 1\n",
    "\n",
    "Output: \"1\"\n",
    "\n",
    "Explanation:\n",
    "\n",
    "This is the base case.\n",
    "\n",
    " \n",
    "\n",
    "Constraints:\n",
    "\n",
    "1 <= n <= 30\n",
    " \n",
    "\n",
    "Follow up: Could you solve it iteratively?"
   ]
  },
  {
   "cell_type": "code",
   "execution_count": null,
   "id": "f401bbb9",
   "metadata": {},
   "outputs": [],
   "source": [
    "class Solution:\n",
    "    def countAndSay(self, n: int) -> str:\n",
    "        if n == 1:\n",
    "            return '1'\n",
    "        ans = '1'\n",
    "        for i in range(2, n+1):\n",
    "            curr = ans[0]\n",
    "            count = 1\n",
    "            temp = ''\n",
    "            ans += 'a'\n",
    "            for s in ans[1:]:\n",
    "                if s != curr:\n",
    "                    temp += str(count) + curr\n",
    "                    curr = s\n",
    "                    count = 0\n",
    "                count += 1\n",
    "            ans = temp\n",
    "        return ans\n",
    "\n"
   ]
  }
 ],
 "metadata": {
  "language_info": {
   "name": "python"
  }
 },
 "nbformat": 4,
 "nbformat_minor": 5
}

{
 "cells": [
  {
   "cell_type": "markdown",
   "metadata": {},
   "source": [
    "Medium\n",
    "\n",
    "You are given a 0-indexed integer array nums.\n",
    "\n",
    "Return the maximum value over all triplets of indices (i, j, k) such that i < j < k. If all such triplets have a negative value, return 0.\n",
    "\n",
    "The value of a triplet of indices (i, j, k) is equal to (nums[i] - nums[j]) * nums[k].\n",
    "\n",
    " \n",
    "\n",
    "Example 1:\n",
    "\n",
    "Input: nums = [12,6,1,2,7]\n",
    "Output: 77\n",
    "Explanation: The value of the triplet (0, 2, 4) is (nums[0] - nums[2]) * nums[4] = 77.\n",
    "It can be shown that there are no ordered triplets of indices with a value greater than 77. \n",
    "Example 2:\n",
    "\n",
    "Input: nums = [1,10,3,4,19]\n",
    "Output: 133\n",
    "Explanation: The value of the triplet (1, 2, 4) is (nums[1] - nums[2]) * nums[4] = 133.\n",
    "It can be shown that there are no ordered triplets of indices with a value greater than 133.\n",
    "Example 3:\n",
    "\n",
    "Input: nums = [1,2,3]\n",
    "Output: 0\n",
    "Explanation: The only ordered triplet of indices (0, 1, 2) has a negative value of (nums[0] - nums[1]) * nums[2] = -3. Hence, the answer would be 0.\n",
    " \n",
    "\n",
    "Constraints:\n",
    "\n",
    "3 <= nums.length <= 10**5\n",
    "1 <= nums[i] <= 10**6"
   ]
  },
  {
   "cell_type": "code",
   "execution_count": null,
   "metadata": {},
   "outputs": [],
   "source": [
    "class Solution:\n",
    "    def maximumTripletValue(self, nums: List[int]) -> int:\n",
    "\n",
    "        maxElement = maxDiff = maxTri = 0\n",
    "        \n",
    "        for n in nums:\n",
    "            maxTri = max(maxTri, maxDiff * n)\n",
    "            if n > maxElement:\n",
    "                maxElement = n\n",
    "                continue\n",
    "            if (maxElement - n) > maxDiff:\n",
    "                maxDiff = maxElement - n\n",
    "        \n",
    "        return maxTri"
   ]
  }
 ],
 "metadata": {
  "language_info": {
   "name": "python"
  }
 },
 "nbformat": 4,
 "nbformat_minor": 2
}

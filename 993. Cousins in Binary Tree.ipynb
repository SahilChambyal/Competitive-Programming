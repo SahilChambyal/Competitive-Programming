{
 "cells": [
  {
   "cell_type": "markdown",
   "metadata": {},
   "source": [
    "Easy\n",
    "\n",
    "Given the root of a binary tree with unique values and the values of two different nodes of the tree x and y, return true if the nodes corresponding to the values x and y in the tree are cousins, or false otherwise.\n",
    "\n",
    "Two nodes of a binary tree are cousins if they have the same depth with different parents.\n",
    "\n",
    "Note that in a binary tree, the root node is at the depth 0, and children of each depth k node are at the depth k + 1.\n",
    "\n",
    " \n",
    "\n",
    "Example 1:\n",
    "\n",
    "\n",
    "Input: root = [1,2,3,4], x = 4, y = 3\n",
    "Output: false\n",
    "Example 2:\n",
    "\n",
    "\n",
    "Input: root = [1,2,3,null,4,null,5], x = 5, y = 4\n",
    "Output: true\n",
    "Example 3:\n",
    "\n",
    "\n",
    "Input: root = [1,2,3,null,4], x = 2, y = 3\n",
    "Output: false\n",
    " \n",
    "\n",
    "Constraints:\n",
    "\n",
    "The number of nodes in the tree is in the range [2, 100].\n",
    "1 <= Node.val <= 100\n",
    "Each node has a unique value.\n",
    "x != y\n",
    "x and y are exist in the tree."
   ]
  },
  {
   "cell_type": "code",
   "execution_count": null,
   "metadata": {},
   "outputs": [],
   "source": [
    "# Definition for a binary tree node.\n",
    "# class TreeNode:\n",
    "#     def __init__(self, val=0, left=None, right=None):\n",
    "#         self.val = val\n",
    "#         self.left = left\n",
    "#         self.right = right\n",
    "class Solution:\n",
    "    def isCousins(self, root: Optional[TreeNode], x: int, y: int) -> bool:\n",
    "        table = dict()\n",
    "        def levelOrder(root, level, parent):\n",
    "            if root == None:\n",
    "                return\n",
    "            table[root.val] = [level, parent]\n",
    "            levelOrder(root.left, level + 1, root.val)\n",
    "            levelOrder(root.right, level + 1, root.val)\n",
    "        levelOrder(root, 0, 0)\n",
    "        if table[x][0] == table[y][0] and table[x][1] != table[y][1]:\n",
    "            return True\n",
    "        return False\n"
   ]
  }
 ],
 "metadata": {
  "language_info": {
   "name": "python"
  }
 },
 "nbformat": 4,
 "nbformat_minor": 2
}

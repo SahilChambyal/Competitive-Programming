{
 "cells": [
  {
   "cell_type": "markdown",
   "id": "dc6fcbdf",
   "metadata": {},
   "source": [
    "Easy\n",
    "\n",
    "You are given an integer n.\n",
    "\n",
    "Each number from 1 to n is grouped according to the sum of its digits.\n",
    "\n",
    "Return the number of groups that have the largest size.\n",
    "\n",
    " \n",
    "\n",
    "Example 1:\n",
    "\n",
    "Input: n = 13\n",
    "Output: 4\n",
    "Explanation: There are 9 groups in total, they are grouped according sum of its digits of numbers from 1 to 13:\n",
    "[1,10], [2,11], [3,12], [4,13], [5], [6], [7], [8], [9].\n",
    "There are 4 groups with largest size.\n",
    "Example 2:\n",
    "\n",
    "Input: n = 2\n",
    "Output: 2\n",
    "Explanation: There are 2 groups [1], [2] of size 1.\n",
    " \n",
    "\n",
    "Constraints:\n",
    "\n",
    "1 <= n <= 10**4"
   ]
  },
  {
   "cell_type": "code",
   "execution_count": null,
   "id": "c1e61684",
   "metadata": {},
   "outputs": [],
   "source": [
    "class Solution:\n",
    "    def countLargestGroup(self, n: int) -> int:\n",
    "        size = 0\n",
    "        table = dict()\n",
    "        def total(n):\n",
    "            tot = 0\n",
    "            while n > 0:\n",
    "                tot += n % 10\n",
    "                n //= 10\n",
    "            return tot\n",
    "        for i in range(1, n+1):\n",
    "            curr = total(i)\n",
    "            if curr not in table:\n",
    "                table[curr] = []\n",
    "            table[curr].append(i)\n",
    "            size = max(size, len(table[curr]))\n",
    "\n",
    "        count = 0\n",
    "        for k in table.keys():\n",
    "            if len(table[k]) == size:\n",
    "                count += 1\n",
    "        return count\n"
   ]
  }
 ],
 "metadata": {
  "language_info": {
   "name": "python"
  }
 },
 "nbformat": 4,
 "nbformat_minor": 5
}

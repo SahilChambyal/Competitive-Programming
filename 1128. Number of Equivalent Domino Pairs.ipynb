{
 "cells": [
  {
   "cell_type": "markdown",
   "id": "7c339348",
   "metadata": {},
   "source": [
    "Easy\n",
    "\n",
    "Given a list of dominoes, dominoes[i] = [a, b] is equivalent to dominoes[j] = [c, d] if and only if either (a == c and b == d), or (a == d and b == c) - that is, one domino can be rotated to be equal to another domino.\n",
    "\n",
    "Return the number of pairs (i, j) for which 0 <= i < j < dominoes.length, and dominoes[i] is equivalent to dominoes[j].\n",
    "\n",
    " \n",
    "\n",
    "Example 1:\n",
    "\n",
    "Input: dominoes = [[1,2],[2,1],[3,4],[5,6]]\n",
    "Output: 1\n",
    "Example 2:\n",
    "\n",
    "Input: dominoes = [[1,2],[1,2],[1,1],[1,2],[2,2]]\n",
    "Output: 3\n",
    " \n",
    "\n",
    "Constraints:\n",
    "\n",
    "1 <= dominoes.length <= 4 * 10**4\n",
    "dominoes[i].length == 2\n",
    "1 <= dominoes[i][j] <= 9"
   ]
  },
  {
   "cell_type": "code",
   "execution_count": null,
   "id": "1796d10c",
   "metadata": {},
   "outputs": [],
   "source": [
    "class Solution:\n",
    "    def numEquivDominoPairs(self, dominoes: List[List[int]]) -> int:\n",
    "        ans = 0\n",
    "        table = dict()\n",
    "        for pair in dominoes:\n",
    "            pair.sort()\n",
    "            pair = tuple(pair)\n",
    "            if pair not in table:\n",
    "                table[pair]  = 0\n",
    "            table[pair] += 1\n",
    "        \n",
    "        for key in table.keys():\n",
    "            ans += (table[key] * (table[key] - 1)) // 2\n",
    "        return ans"
   ]
  }
 ],
 "metadata": {
  "language_info": {
   "name": "python"
  }
 },
 "nbformat": 4,
 "nbformat_minor": 5
}

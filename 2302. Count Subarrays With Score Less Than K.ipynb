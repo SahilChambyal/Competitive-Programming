{
 "cells": [
  {
   "cell_type": "markdown",
   "id": "8d27a4da",
   "metadata": {},
   "source": [
    "Hard\n",
    "\n",
    "The score of an array is defined as the product of its sum and its length.\n",
    "\n",
    "For example, the score of [1, 2, 3, 4, 5] is (1 + 2 + 3 + 4 + 5) * 5 = 75.\n",
    "Given a positive integer array nums and an integer k, return the number of non-empty subarrays of nums whose score is strictly less than k.\n",
    "\n",
    "A subarray is a contiguous sequence of elements within an array.\n",
    "\n",
    " \n",
    "\n",
    "Example 1:\n",
    "\n",
    "Input: nums = [2,1,4,3,5], k = 10\n",
    "Output: 6\n",
    "Explanation:\n",
    "The 6 subarrays having scores less than 10 are:\n",
    "- [2] with score 2 * 1 = 2.\n",
    "- [1] with score 1 * 1 = 1.\n",
    "- [4] with score 4 * 1 = 4.\n",
    "- [3] with score 3 * 1 = 3. \n",
    "- [5] with score 5 * 1 = 5.\n",
    "- [2,1] with score (2 + 1) * 2 = 6.\n",
    "Note that subarrays such as [1,4] and [4,3,5] are not considered because their scores are 10 and 36 respectively, while we need scores strictly less than 10.\n",
    "Example 2:\n",
    "\n",
    "Input: nums = [1,1,1], k = 5\n",
    "Output: 5\n",
    "Explanation:\n",
    "Every subarray except [1,1,1] has a score less than 5.\n",
    "[1,1,1] has a score (1 + 1 + 1) * 3 = 9, which is greater than 5.\n",
    "Thus, there are 5 subarrays having scores less than 5.\n",
    " \n",
    "\n",
    "Constraints:\n",
    "\n",
    "1 <= nums.length <= 105\n",
    "1 <= nums[i] <= 105\n",
    "1 <= k <= 1015"
   ]
  },
  {
   "cell_type": "code",
   "execution_count": null,
   "id": "f237b9b1",
   "metadata": {},
   "outputs": [],
   "source": [
    "class Solution:\n",
    "    def countSubarrays(self, nums: List[int], k: int) -> int:\n",
    "        count = 0\n",
    "        left = 0\n",
    "        n_sum = 0\n",
    "        score = 0\n",
    "        for right in range(len(nums)):\n",
    "            n_sum += nums[right]\n",
    "            score = n_sum * ((right - left) + 1)\n",
    "            while score >= k:\n",
    "                n_sum -= nums[left]\n",
    "                left += 1\n",
    "                score = n_sum * ((right-left)+1)\n",
    "            count += (right - left) + 1\n",
    "        return count"
   ]
  }
 ],
 "metadata": {
  "language_info": {
   "name": "python"
  }
 },
 "nbformat": 4,
 "nbformat_minor": 5
}

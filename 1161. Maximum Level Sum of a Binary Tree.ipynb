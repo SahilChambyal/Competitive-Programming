{
 "cells": [
  {
   "cell_type": "markdown",
   "metadata": {},
   "source": [
    "Medium\n",
    "\n",
    "Given the root of a binary tree, the level of its root is 1, the level of its children is 2, and so on.\n",
    "\n",
    "Return the smallest level x such that the sum of all the values of nodes at level x is maximal.\n",
    "\n",
    " \n",
    "\n",
    "Example 1:\n",
    "\n",
    "\n",
    "Input: root = [1,7,0,7,-8,null,null]\n",
    "Output: 2\n",
    "Explanation: \n",
    "Level 1 sum = 1.\n",
    "Level 2 sum = 7 + 0 = 7.\n",
    "Level 3 sum = 7 + -8 = -1.\n",
    "So we return the level with the maximum sum which is level 2.\n",
    "Example 2:\n",
    "\n",
    "Input: root = [989,null,10250,98693,-89388,null,null,null,-32127]\n",
    "Output: 2\n",
    " \n",
    "\n",
    "Constraints:\n",
    "\n",
    "The number of nodes in the tree is in the range [1, 10**4].\n",
    "-10**5 <= Node.val <= 10**5"
   ]
  },
  {
   "cell_type": "code",
   "execution_count": null,
   "metadata": {},
   "outputs": [],
   "source": [
    "# Definition for a binary tree node.\n",
    "# class TreeNode:\n",
    "#     def __init__(self, val=0, left=None, right=None):\n",
    "#         self.val = val\n",
    "#         self.left = left\n",
    "#         self.right = right\n",
    "class Solution:\n",
    "    def maxLevelSum(self, root: Optional[TreeNode]) -> int:\n",
    "        table = dict()\n",
    "        maxSum = -(10 ** 5)\n",
    "        def levelOrder(root, level):\n",
    "            if root == None:\n",
    "                return \n",
    "            if level not in table:\n",
    "                table[level] = 0\n",
    "            table[level] += root.val\n",
    "            levelOrder(root.left, level+1)\n",
    "            levelOrder(root.right, level+1)\n",
    "        levelOrder(root, 1)\n",
    "        ans = 0\n",
    "        for key in table.keys():\n",
    "            if table[key] > maxSum:\n",
    "                maxSum = table[key]\n",
    "                ans = key\n",
    "        return ans"
   ]
  }
 ],
 "metadata": {
  "language_info": {
   "name": "python"
  }
 },
 "nbformat": 4,
 "nbformat_minor": 2
}

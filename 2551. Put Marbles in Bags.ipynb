{
 "cells": [
  {
   "cell_type": "markdown",
   "metadata": {},
   "source": [
    "Hard\n",
    "\n",
    "You have k bags. You are given a 0-indexed integer array weights where weights[i] is the weight of the ith marble. You are also given the integer k.\n",
    "\n",
    "Divide the marbles into the k bags according to the following rules:\n",
    "\n",
    "No bag is empty.\n",
    "If the ith marble and jth marble are in a bag, then all marbles with an index between the ith and jth indices should also be in that same bag.\n",
    "If a bag consists of all the marbles with an index from i to j inclusively, then the cost of the bag is weights[i] + weights[j].\n",
    "The score after distributing the marbles is the sum of the costs of all the k bags.\n",
    "\n",
    "Return the difference between the maximum and minimum scores among marble distributions.\n",
    "\n",
    " \n",
    "\n",
    "Example 1:\n",
    "\n",
    "Input: weights = [1,3,5,1], k = 2\n",
    "Output: 4\n",
    "Explanation: \n",
    "The distribution [1],[3,5,1] results in the minimal score of (1+1) + (3+1) = 6. \n",
    "The distribution [1,3],[5,1], results in the maximal score of (1+3) + (5+1) = 10. \n",
    "Thus, we return their difference 10 - 6 = 4.\n",
    "Example 2:\n",
    "\n",
    "Input: weights = [1, 3], k = 2\n",
    "Output: 0\n",
    "Explanation: The only distribution possible is [1],[3]. \n",
    "Since both the maximal and minimal score are the same, we return 0.\n",
    " \n",
    "\n",
    "Constraints:\n",
    "\n",
    "1 <= k <= weights.length <= 10**5\n",
    "1 <= weights[i] <= 10**9"
   ]
  },
  {
   "cell_type": "code",
   "execution_count": null,
   "metadata": {},
   "outputs": [],
   "source": [
    "class Solution:\n",
    "    def putMarbles(self, weights: List[int], k: int) -> int:\n",
    "\n",
    "        if k == 1:\n",
    "            return 0\n",
    "\n",
    "        splits = [weights[i]+weights[i+1] for i in range(len(weights)-1)]\n",
    "        splits.sort()\n",
    "\n",
    "        i = k - 1\n",
    "\n",
    "        maxi = sum(splits[-i:])\n",
    "        mini = sum(splits[:i])\n",
    "\n",
    "        return maxi - mini"
   ]
  }
 ],
 "metadata": {
  "language_info": {
   "name": "python"
  }
 },
 "nbformat": 4,
 "nbformat_minor": 2
}

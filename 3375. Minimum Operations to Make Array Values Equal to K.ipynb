{
 "cells": [
  {
   "cell_type": "markdown",
   "id": "cc9a7a7a",
   "metadata": {},
   "source": [
    "Easy\n",
    "\n",
    "You are given an integer array nums and an integer k.\n",
    "\n",
    "An integer h is called valid if all values in the array that are strictly greater than h are identical.\n",
    "\n",
    "For example, if nums = [10, 8, 10, 8], a valid integer is h = 9 because all nums[i] > 9 are equal to 10, but 5 is not a valid integer.\n",
    "\n",
    "You are allowed to perform the following operation on nums:\n",
    "\n",
    "Select an integer h that is valid for the current values in nums.\n",
    "For each index i where nums[i] > h, set nums[i] to h.\n",
    "Return the minimum number of operations required to make every element in nums equal to k. If it is impossible to make all elements equal to k, return -1.\n",
    "\n",
    " \n",
    "\n",
    "Example 1:\n",
    "\n",
    "Input: nums = [5,2,5,4,5], k = 2\n",
    "\n",
    "Output: 2\n",
    "\n",
    "Explanation:\n",
    "\n",
    "The operations can be performed in order using valid integers 4 and then 2.\n",
    "\n",
    "Example 2:\n",
    "\n",
    "Input: nums = [2,1,2], k = 2\n",
    "\n",
    "Output: -1\n",
    "\n",
    "Explanation:\n",
    "\n",
    "It is impossible to make all the values equal to 2.\n",
    "\n",
    "Example 3:\n",
    "\n",
    "Input: nums = [9,7,5,3], k = 1\n",
    "\n",
    "Output: 4\n",
    "\n",
    "Explanation:\n",
    "\n",
    "The operations can be performed using valid integers in the order 7, 5, 3, and 1.\n",
    "\n",
    " \n",
    "\n",
    "Constraints:\n",
    "\n",
    "1 <= nums.length <= 100 \n",
    "1 <= nums[i] <= 100\n",
    "1 <= k <= 100"
   ]
  },
  {
   "cell_type": "code",
   "execution_count": null,
   "id": "2ecadb14",
   "metadata": {},
   "outputs": [],
   "source": [
    "class Solution:\n",
    "    def minOperations(self, nums: List[int], k: int) -> int:\n",
    "        nums = list(set(nums))\n",
    "        nums.sort(reverse = True)\n",
    "        if nums[-1] < k:\n",
    "            return -1\n",
    "        if nums[-1] == k:\n",
    "            return len(nums) - 1\n",
    "        return len(nums)"
   ]
  }
 ],
 "metadata": {
  "language_info": {
   "name": "python"
  }
 },
 "nbformat": 4,
 "nbformat_minor": 5
}

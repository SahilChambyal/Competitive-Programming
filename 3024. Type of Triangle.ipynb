{
 "cells": [
  {
   "cell_type": "markdown",
   "id": "4233792d",
   "metadata": {},
   "source": [
    "Easy\n",
    "\n",
    "You are given a 0-indexed integer array nums of size 3 which can form the sides of a triangle.\n",
    "\n",
    "A triangle is called equilateral if it has all sides of equal length.\n",
    "A triangle is called isosceles if it has exactly two sides of equal length.\n",
    "A triangle is called scalene if all its sides are of different lengths.\n",
    "Return a string representing the type of triangle that can be formed or \"none\" if it cannot form a triangle.\n",
    "\n",
    " \n",
    "\n",
    "Example 1:\n",
    "\n",
    "Input: nums = [3,3,3]\n",
    "Output: \"equilateral\"\n",
    "Explanation: Since all the sides are of equal length, therefore, it will form an equilateral triangle.\n",
    "Example 2:\n",
    "\n",
    "Input: nums = [3,4,5]\n",
    "Output: \"scalene\"\n",
    "Explanation: \n",
    "nums[0] + nums[1] = 3 + 4 = 7, which is greater than nums[2] = 5.\n",
    "nums[0] + nums[2] = 3 + 5 = 8, which is greater than nums[1] = 4.\n",
    "nums[1] + nums[2] = 4 + 5 = 9, which is greater than nums[0] = 3. \n",
    "Since the sum of the two sides is greater than the third side for all three cases, therefore, it can form a triangle.\n",
    "As all the sides are of different lengths, it will form a scalene triangle.\n",
    " \n",
    "\n",
    "Constraints:\n",
    "\n",
    "nums.length == 3\n",
    "1 <= nums[i] <= 100\n"
   ]
  },
  {
   "cell_type": "code",
   "execution_count": null,
   "id": "3b5ee3c4",
   "metadata": {},
   "outputs": [],
   "source": [
    "class Solution:\n",
    "    def triangleType(self, nums: List[int]) -> str:\n",
    "        nums.sort()\n",
    "        if (nums[0] + nums[1]) <= nums[2]:\n",
    "            return 'none'\n",
    "        nums = set(nums)\n",
    "        tri = {1:'equilateral', 2:'isosceles', 3:'scalene'}\n",
    "        return tri[len(nums)]"
   ]
  }
 ],
 "metadata": {
  "language_info": {
   "name": "python"
  }
 },
 "nbformat": 4,
 "nbformat_minor": 5
}

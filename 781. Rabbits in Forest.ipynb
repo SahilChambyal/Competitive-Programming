{
 "cells": [
  {
   "cell_type": "markdown",
   "id": "92eac995",
   "metadata": {},
   "source": [
    "Medium\n",
    "\n",
    "There is a forest with an unknown number of rabbits. We asked n rabbits \"How many rabbits have the same color as you?\" and collected the answers in an integer array answers where answers[i] is the answer of the ith rabbit.\n",
    "\n",
    "Given the array answers, return the minimum number of rabbits that could be in the forest.\n",
    "\n",
    " \n",
    "\n",
    "Example 1:\n",
    "\n",
    "Input: answers = [1,1,2]\n",
    "Output: 5\n",
    "Explanation:\n",
    "The two rabbits that answered \"1\" could both be the same color, say red.\n",
    "The rabbit that answered \"2\" can't be red or the answers would be inconsistent.\n",
    "Say the rabbit that answered \"2\" was blue.\n",
    "Then there should be 2 other blue rabbits in the forest that didn't answer into the array.\n",
    "The smallest possible number of rabbits in the forest is therefore 5: 3 that answered plus 2 that didn't.\n",
    "Example 2:\n",
    "\n",
    "Input: answers = [10,10,10]\n",
    "Output: 11\n",
    " \n",
    "\n",
    "Constraints:\n",
    "\n",
    "1 <= answers.length <= 1000\n",
    "0 <= answers[i] < 1000"
   ]
  },
  {
   "cell_type": "code",
   "execution_count": null,
   "id": "aaf54c03",
   "metadata": {},
   "outputs": [],
   "source": [
    "class Solution:\n",
    "    def numRabbits(self, answers: List[int]) -> int:\n",
    "\n",
    "        table = dict()\n",
    "        for n in answers:\n",
    "            if n not in table:\n",
    "                table[n] = 0\n",
    "            table[n] += 1\n",
    "        count = 0\n",
    "        for k in table.keys():\n",
    "            count += (k+1) * math.ceil(table[k] / (k+1))\n",
    "        return count\n",
    "\n"
   ]
  }
 ],
 "metadata": {
  "language_info": {
   "name": "python"
  }
 },
 "nbformat": 4,
 "nbformat_minor": 5
}

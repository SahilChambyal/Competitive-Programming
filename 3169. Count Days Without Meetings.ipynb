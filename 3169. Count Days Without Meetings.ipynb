{
 "cells": [
  {
   "cell_type": "markdown",
   "metadata": {},
   "source": [
    "Medium\n",
    "\n",
    "You are given a positive integer days representing the total number of days an employee is available for work (starting from day 1). You are also given a 2D array meetings of size n where, meetings[i] = [start_i, end_i] represents the starting and ending days of meeting i (inclusive).\n",
    "\n",
    "Return the count of days when the employee is available for work but no meetings are scheduled.\n",
    "\n",
    "Note: The meetings may overlap.\n",
    "\n",
    " \n",
    "\n",
    "Example 1:\n",
    "\n",
    "Input: days = 10, meetings = [[5,7],[1,3],[9,10]]\n",
    "\n",
    "Output: 2\n",
    "\n",
    "Explanation:\n",
    "\n",
    "There is no meeting scheduled on the 4th and 8th days.\n",
    "\n",
    "Example 2:\n",
    "\n",
    "Input: days = 5, meetings = [[2,4],[1,3]]\n",
    "\n",
    "Output: 1\n",
    "\n",
    "Explanation:\n",
    "\n",
    "There is no meeting scheduled on the 5th day.\n",
    "\n",
    "Example 3:\n",
    "\n",
    "Input: days = 6, meetings = [[1,6]]\n",
    "\n",
    "Output: 0\n",
    "\n",
    "Explanation:\n",
    "\n",
    "Meetings are scheduled for all working days.\n",
    "\n",
    " \n",
    "\n",
    "Constraints:\n",
    "\n",
    "1 <= days <= 10**9\n",
    "1 <= meetings.length <= 10**5\n",
    "meetings[i].length == 2\n",
    "1 <= meetings[i][0] <= meetings[i][1] <= days"
   ]
  },
  {
   "cell_type": "code",
   "execution_count": null,
   "metadata": {},
   "outputs": [],
   "source": [
    "class Solution:\n",
    "    def countDays(self, days: int, meetings: List[List[int]]) -> int:\n",
    "        meetings.sort()\n",
    "        x, y = meetings[0]\n",
    "        days -= ((y - x) + 1)\n",
    "        for i in range(1, len(meetings)):\n",
    "            x1 , y1 = meetings[i]\n",
    "            if y1 <= y:\n",
    "                continue\n",
    "            if x1 <= y:\n",
    "                days -= y1 - y\n",
    "            else:\n",
    "                days -= (y1 - x1) + 1\n",
    "            y = y1\n",
    "        return days\n"
   ]
  }
 ],
 "metadata": {
  "language_info": {
   "name": "python"
  }
 },
 "nbformat": 4,
 "nbformat_minor": 2
}

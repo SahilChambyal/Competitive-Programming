{
 "cells": [
  {
   "cell_type": "markdown",
   "id": "bbb3dede",
   "metadata": {},
   "source": [
    "Medium\n",
    "\n",
    "Given an integer array nums and an integer k, return the number of good subarrays of nums.\n",
    "\n",
    "A subarray arr is good if there are at least k pairs of indices (i, j) such that i < j and arr[i] == arr[j].\n",
    "\n",
    "A subarray is a contiguous non-empty sequence of elements within an array.\n",
    "\n",
    " \n",
    "\n",
    "Example 1:\n",
    "\n",
    "Input: nums = [1,1,1,1,1], k = 10\n",
    "Output: 1\n",
    "Explanation: The only good subarray is the array nums itself.\n",
    "Example 2:\n",
    "\n",
    "Input: nums = [3,1,4,3,2,2,4], k = 2\n",
    "Output: 4\n",
    "Explanation: There are 4 different good subarrays:\n",
    "- [3,1,4,3,2,2] that has 2 pairs.\n",
    "- [3,1,4,3,2,2,4] that has 3 pairs.\n",
    "- [1,4,3,2,2,4] that has 2 pairs.\n",
    "- [4,3,2,2,4] that has 2 pairs.\n",
    " \n",
    "\n",
    "Constraints:\n",
    "\n",
    "1 <= nums.length <= 10**5\n",
    "1 <= nums[i], k <= 10**9"
   ]
  },
  {
   "cell_type": "code",
   "execution_count": null,
   "id": "fb0f7636",
   "metadata": {},
   "outputs": [],
   "source": [
    "class Solution:\n",
    "    def countGood(self, nums: List[int], k: int) -> int:\n",
    "        table = defaultdict(int)\n",
    "        pairs = 0\n",
    "        ans = 0\n",
    "        left = 0\n",
    "        for right in range(len(nums)):\n",
    "            pairs += table[nums[right]]\n",
    "            table[nums[right]] += 1\n",
    "            while pairs >= k:\n",
    "                table[nums[left]] -= 1\n",
    "                pairs -= table[nums[left]]\n",
    "                left += 1\n",
    "            ans += left\n",
    "        return ans"
   ]
  }
 ],
 "metadata": {
  "language_info": {
   "name": "python"
  }
 },
 "nbformat": 4,
 "nbformat_minor": 5
}

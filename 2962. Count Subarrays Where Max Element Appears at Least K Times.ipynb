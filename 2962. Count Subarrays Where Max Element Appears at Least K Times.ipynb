{
 "cells": [
  {
   "cell_type": "markdown",
   "id": "b66d58ac",
   "metadata": {},
   "source": [
    "Medium\n",
    "\n",
    "You are given an integer array nums and a positive integer k.\n",
    "\n",
    "Return the number of subarrays where the maximum element of nums appears at least k times in that subarray.\n",
    "\n",
    "A subarray is a contiguous sequence of elements within an array.\n",
    "\n",
    " \n",
    "\n",
    "Example 1:\n",
    "\n",
    "Input: nums = [1,3,2,3,3], k = 2\n",
    "Output: 6\n",
    "Explanation: The subarrays that contain the element 3 at least 2 times are: [1,3,2,3], [1,3,2,3,3], [3,2,3], [3,2,3,3], [2,3,3] and [3,3].\n",
    "Example 2:\n",
    "\n",
    "Input: nums = [1,4,2,1], k = 3\n",
    "Output: 0\n",
    "Explanation: No subarray contains the element 4 at least 3 times.\n",
    " \n",
    "\n",
    "Constraints:\n",
    "\n",
    "1 <= nums.length <= 10**5\n",
    "1 <= nums[i] <= 10**6\n",
    "1 <= k <= 10**5"
   ]
  },
  {
   "cell_type": "code",
   "execution_count": null,
   "id": "8e9434a9",
   "metadata": {},
   "outputs": [],
   "source": [
    "class Solution:\n",
    "    def countSubarrays(self, nums: List[int], k: int) -> int:\n",
    "        left = 0\n",
    "        maxi = max(nums)\n",
    "        ans = 0\n",
    "        count = 0\n",
    "        for right in range(len(nums)):\n",
    "            if nums[right] > maxi:\n",
    "                count = 0\n",
    "                ans = 0\n",
    "                maxi = nums[right]\n",
    "            if nums[right] == maxi:\n",
    "                count += 1\n",
    "            if count >= k:\n",
    "                while count >= k:\n",
    "                    ans += (len(nums) - right)\n",
    "                    if nums[left] == maxi:\n",
    "                        count -= 1\n",
    "                    left += 1  \n",
    "        return ans\n",
    "            "
   ]
  }
 ],
 "metadata": {
  "language_info": {
   "name": "python"
  }
 },
 "nbformat": 4,
 "nbformat_minor": 5
}

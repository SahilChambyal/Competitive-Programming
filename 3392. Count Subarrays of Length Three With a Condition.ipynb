{
 "cells": [
  {
   "cell_type": "markdown",
   "id": "413a2086",
   "metadata": {},
   "source": [
    "Easy\n",
    "\n",
    "Given an integer array nums, return the number of subarrays of length 3 such that the sum of the first and third numbers equals exactly half of the second number.\n",
    "\n",
    " \n",
    "\n",
    "Example 1:\n",
    "\n",
    "Input: nums = [1,2,1,4,1]\n",
    "\n",
    "Output: 1\n",
    "\n",
    "Explanation:\n",
    "\n",
    "Only the subarray [1,4,1] contains exactly 3 elements where the sum of the first and third numbers equals half the middle number.\n",
    "\n",
    "Example 2:\n",
    "\n",
    "Input: nums = [1,1,1]\n",
    "\n",
    "Output: 0\n",
    "\n",
    "Explanation:\n",
    "\n",
    "[1,1,1] is the only subarray of length 3. However, its first and third numbers do not add to half the middle number.\n",
    "\n",
    " \n",
    "\n",
    "Constraints:\n",
    "\n",
    "3 <= nums.length <= 100\n",
    "-100 <= nums[i] <= 100"
   ]
  },
  {
   "cell_type": "code",
   "execution_count": null,
   "id": "126f717f",
   "metadata": {},
   "outputs": [],
   "source": [
    "class Solution:\n",
    "    def countSubarrays(self, nums: List[int]) -> int:\n",
    "        ans = 0\n",
    "        for i in range(2, len(nums)):\n",
    "            if (nums[i-2] + nums[i]) == (nums[i-1] / 2):\n",
    "                ans += 1\n",
    "        return ans"
   ]
  }
 ],
 "metadata": {
  "language_info": {
   "name": "python"
  }
 },
 "nbformat": 4,
 "nbformat_minor": 5
}

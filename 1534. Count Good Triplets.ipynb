{
 "cells": [
  {
   "cell_type": "markdown",
   "id": "c64a607e",
   "metadata": {},
   "source": [
    "Easy\n",
    "\n",
    "Given an array of integers arr, and three integers a, b and c. You need to find the number of good triplets.\n",
    "\n",
    "A triplet (arr[i], arr[j], arr[k]) is good if the following conditions are true:\n",
    "\n",
    "0 <= i < j < k < arr.length\n",
    "|arr[i] - arr[j]| <= a\n",
    "|arr[j] - arr[k]| <= b\n",
    "|arr[i] - arr[k]| <= c\n",
    "Where |x| denotes the absolute value of x.\n",
    "\n",
    "Return the number of good triplets.\n",
    "\n",
    " \n",
    "\n",
    "Example 1:\n",
    "\n",
    "Input: arr = [3,0,1,1,9,7], a = 7, b = 2, c = 3\n",
    "Output: 4\n",
    "Explanation: There are 4 good triplets: [(3,0,1), (3,0,1), (3,1,1), (0,1,1)].\n",
    "Example 2:\n",
    "\n",
    "Input: arr = [1,1,2,2,3], a = 0, b = 0, c = 1\n",
    "Output: 0\n",
    "Explanation: No triplet satisfies all conditions.\n",
    " \n",
    "\n",
    "Constraints:\n",
    "\n",
    "3 <= arr.length <= 100\n",
    "0 <= arr[i] <= 1000\n",
    "0 <= a, b, c <= 1000"
   ]
  },
  {
   "cell_type": "code",
   "execution_count": null,
   "id": "3a91e7ec",
   "metadata": {},
   "outputs": [],
   "source": [
    "class Solution:\n",
    "    def countGoodTriplets(self, arr: List[int], a: int, b: int, c: int) -> int:\n",
    "        ans = 0\n",
    "        for i in range(len(arr)-2):\n",
    "            for j in range(i+1, len(arr)-1):\n",
    "                for k in range(j+1, len(arr)):\n",
    "                    if (abs(arr[i] - arr[j]) <= a and\n",
    "                    abs(arr[j] - arr[k]) <= b and \n",
    "                    abs(arr[i] - arr[k]) <= c):\n",
    "                        ans += 1\n",
    "        return ans"
   ]
  }
 ],
 "metadata": {
  "language_info": {
   "name": "python"
  }
 },
 "nbformat": 4,
 "nbformat_minor": 5
}

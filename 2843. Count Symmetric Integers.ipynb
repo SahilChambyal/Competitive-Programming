{
 "cells": [
  {
   "cell_type": "markdown",
   "id": "4bacf3f1",
   "metadata": {},
   "source": [
    "Easy\n",
    "\n",
    "You are given two positive integers low and high.\n",
    "\n",
    "An integer x consisting of 2 * n digits is symmetric if the sum of the first n digits of x is equal to the sum of the last n digits of x. Numbers with an odd number of digits are never symmetric.\n",
    "\n",
    "Return the number of symmetric integers in the range [low, high].\n",
    "\n",
    " \n",
    "\n",
    "Example 1:\n",
    "\n",
    "Input: low = 1, high = 100\n",
    "Output: 9\n",
    "Explanation: There are 9 symmetric integers between 1 and 100: 11, 22, 33, 44, 55, 66, 77, 88, and 99.\n",
    "Example 2:\n",
    "\n",
    "Input: low = 1200, high = 1230\n",
    "Output: 4\n",
    "Explanation: There are 4 symmetric integers between 1200 and 1230: 1203, 1212, 1221, and 1230.\n",
    " \n",
    "\n",
    "Constraints:\n",
    "\n",
    "1 <= low <= high <= 10**4"
   ]
  },
  {
   "cell_type": "code",
   "execution_count": null,
   "id": "af3ba3c9",
   "metadata": {},
   "outputs": [],
   "source": [
    "class Solution:\n",
    "    def countSymmetricIntegers(self, low: int, high: int) -> int:\n",
    "        ans = 0\n",
    "        for num in range(low, high + 1):\n",
    "            s = list(str(num))\n",
    "            s = [int(n) for n in s]\n",
    "            if len(s) % 2 == 0 and sum(s[:len(s)//2]) == sum(s[len(s) // 2:]):\n",
    "                ans += 1\n",
    "        return ans"
   ]
  }
 ],
 "metadata": {
  "language_info": {
   "name": "python"
  }
 },
 "nbformat": 4,
 "nbformat_minor": 5
}

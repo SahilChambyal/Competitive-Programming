{
 "cells": [
  {
   "cell_type": "markdown",
   "id": "601d7a83",
   "metadata": {},
   "source": [
    "Medium\n",
    "\n",
    "You are given two arrays nums1 and nums2 consisting of positive integers.\n",
    "\n",
    "You have to replace all the 0's in both arrays with strictly positive integers such that the sum of elements of both arrays becomes equal.\n",
    "\n",
    "Return the minimum equal sum you can obtain, or -1 if it is impossible.\n",
    "\n",
    " \n",
    "\n",
    "Example 1:\n",
    "\n",
    "Input: nums1 = [3,2,0,1,0], nums2 = [6,5,0]\n",
    "Output: 12\n",
    "Explanation: We can replace 0's in the following way:\n",
    "- Replace the two 0's in nums1 with the values 2 and 4. The resulting array is nums1 = [3,2,2,1,4].\n",
    "- Replace the 0 in nums2 with the value 1. The resulting array is nums2 = [6,5,1].\n",
    "Both arrays have an equal sum of 12. It can be shown that it is the minimum sum we can obtain.\n",
    "Example 2:\n",
    "\n",
    "Input: nums1 = [2,0,2,0], nums2 = [1,4]\n",
    "Output: -1\n",
    "Explanation: It is impossible to make the sum of both arrays equal.\n",
    " \n",
    "\n",
    "Constraints:\n",
    "\n",
    "1 <= nums1.length, nums2.length <= 10**5\n",
    "0 <= nums1[i], nums2[i] <= 10**6"
   ]
  },
  {
   "cell_type": "code",
   "execution_count": null,
   "id": "86caca4a",
   "metadata": {},
   "outputs": [],
   "source": [
    "class Solution:\n",
    "    def minSum(self, nums1: List[int], nums2: List[int]) -> int:\n",
    "        z1 = 0\n",
    "        z2 = 0\n",
    "        s1 = 0\n",
    "        s2 = 0\n",
    "        for n in nums1:\n",
    "            if n == 0:\n",
    "                z1 += 1\n",
    "            else:\n",
    "                s1 += n\n",
    "        for n in nums2:\n",
    "            if n == 0:\n",
    "                z2 += 1\n",
    "            else:\n",
    "                s2 += n\n",
    "        \n",
    "\n",
    "        if z1 == 0 and z2 == 0:\n",
    "            return s1 if s1 == s2 else -1\n",
    "        elif z1 == 0:\n",
    "            return s1 if s2 + z2 <= s1 else -1\n",
    "        elif z2 == 0:\n",
    "            return s2 if s1 + z1 <= s2 else -1\n",
    "        \n",
    "        return max(s1+z1, s2+z2)\n",
    "        "
   ]
  }
 ],
 "metadata": {
  "language_info": {
   "name": "python"
  }
 },
 "nbformat": 4,
 "nbformat_minor": 5
}

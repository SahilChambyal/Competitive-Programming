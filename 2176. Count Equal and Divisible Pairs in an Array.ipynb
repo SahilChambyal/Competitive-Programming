{
 "cells": [
  {
   "cell_type": "markdown",
   "id": "0faa5999",
   "metadata": {},
   "source": [
    "Easy\n",
    "\n",
    "Given a 0-indexed integer array nums of length n and an integer k, return the number of pairs (i, j) where 0 <= i < j < n, such that nums[i] == nums[j] and (i * j) is divisible by k.\n",
    " \n",
    "\n",
    "Example 1:\n",
    "\n",
    "Input: nums = [3,1,2,2,2,1,3], k = 2\n",
    "Output: 4\n",
    "Explanation:\n",
    "There are 4 pairs that meet all the requirements:\n",
    "- nums[0] == nums[6], and 0 * 6 == 0, which is divisible by 2.\n",
    "- nums[2] == nums[3], and 2 * 3 == 6, which is divisible by 2.\n",
    "- nums[2] == nums[4], and 2 * 4 == 8, which is divisible by 2.\n",
    "- nums[3] == nums[4], and 3 * 4 == 12, which is divisible by 2.\n",
    "Example 2:\n",
    "\n",
    "Input: nums = [1,2,3,4], k = 1\n",
    "Output: 0\n",
    "Explanation: Since no value in nums is repeated, there are no pairs (i,j) that meet all the requirements.\n",
    " \n",
    "\n",
    "Constraints:\n",
    "\n",
    "1 <= nums.length <= 100\n",
    "1 <= nums[i], k <= 100"
   ]
  },
  {
   "cell_type": "code",
   "execution_count": null,
   "id": "74601eae",
   "metadata": {},
   "outputs": [],
   "source": [
    "class Solution:\n",
    "    def countPairs(self, nums: List[int], k: int) -> int:\n",
    "        ans = 0\n",
    "        for i in range(len(nums)-1):\n",
    "            for j in range(i+1, len(nums)):\n",
    "                if (nums[i] == nums[j]) and (i*j) % k == 0:\n",
    "                    ans += 1\n",
    "        return ans"
   ]
  }
 ],
 "metadata": {
  "language_info": {
   "name": "python"
  }
 },
 "nbformat": 4,
 "nbformat_minor": 5
}

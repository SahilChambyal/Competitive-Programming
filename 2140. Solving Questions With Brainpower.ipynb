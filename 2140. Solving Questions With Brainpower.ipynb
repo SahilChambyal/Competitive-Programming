{
 "cells": [
  {
   "cell_type": "markdown",
   "metadata": {},
   "source": [
    "Medium\n",
    "\n",
    "You are given a 0-indexed 2D integer array questions where questions[i] = [pointsi, brainpoweri].\n",
    "\n",
    "The array describes the questions of an exam, where you have to process the questions in order (i.e., starting from question 0) and make a decision whether to solve or skip each question. Solving question i will earn you pointsi points but you will be unable to solve each of the next brainpoweri questions. If you skip question i, you get to make the decision on the next question.\n",
    "\n",
    "For example, given questions = [[3, 2], [4, 3], [4, 4], [2, 5]]:\n",
    "If question 0 is solved, you will earn 3 points but you will be unable to solve questions 1 and 2.\n",
    "If instead, question 0 is skipped and question 1 is solved, you will earn 4 points but you will be unable to solve questions 2 and 3.\n",
    "Return the maximum points you can earn for the exam.\n",
    "\n",
    " \n",
    "\n",
    "Example 1:\n",
    "\n",
    "Input: questions = [[3,2],[4,3],[4,4],[2,5]]\n",
    "Output: 5\n",
    "Explanation: The maximum points can be earned by solving questions 0 and 3.\n",
    "- Solve question 0: Earn 3 points, will be unable to solve the next 2 questions\n",
    "- Unable to solve questions 1 and 2\n",
    "- Solve question 3: Earn 2 points\n",
    "Total points earned: 3 + 2 = 5. There is no other way to earn 5 or more points.\n",
    "Example 2:\n",
    "\n",
    "Input: questions = [[1,1],[2,2],[3,3],[4,4],[5,5]]\n",
    "Output: 7\n",
    "Explanation: The maximum points can be earned by solving questions 1 and 4.\n",
    "- Skip question 0\n",
    "- Solve question 1: Earn 2 points, will be unable to solve the next 2 questions\n",
    "- Unable to solve questions 2 and 3\n",
    "- Solve question 4: Earn 5 points\n",
    "Total points earned: 2 + 5 = 7. There is no other way to earn 7 or more points.\n",
    " \n",
    "\n",
    "Constraints:\n",
    "\n",
    "1 <= questions.length <= 10**5\n",
    "questions[i].length == 2\n",
    "1 <= pointsi, brainpoweri <= 10**5\n"
   ]
  },
  {
   "cell_type": "code",
   "execution_count": null,
   "metadata": {},
   "outputs": [],
   "source": [
    "class Solution:\n",
    "    def mostPoints(self, questions: List[List[int]]) -> int:\n",
    "        dp = [questions[-1][0]]\n",
    "        ans = dp[-1]\n",
    "        \n",
    "        for i in range(len(questions)-2,-1,-1):\n",
    "            if (questions[i][1] + i+1) < len(questions):\n",
    "                val, index = questions[i]\n",
    "\n",
    "                dp.append(max(val + dp[len(dp)-index-1],dp[-1]))\n",
    "            else:\n",
    "                dp.append(max(questions[i][0], dp[-1]))\n",
    "            ans = max(dp[-1], ans)\n",
    "        return ans"
   ]
  }
 ],
 "metadata": {
  "language_info": {
   "name": "python"
  }
 },
 "nbformat": 4,
 "nbformat_minor": 2
}

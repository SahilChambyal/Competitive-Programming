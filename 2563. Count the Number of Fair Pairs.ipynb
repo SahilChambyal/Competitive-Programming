{
 "cells": [
  {
   "cell_type": "markdown",
   "id": "c7f388e2",
   "metadata": {},
   "source": [
    "Medium\n",
    "\n",
    "Given a 0-indexed integer array nums of size n and two integers lower and upper, return the number of fair pairs.\n",
    "\n",
    "A pair (i, j) is fair if:\n",
    "\n",
    "0 <= i < j < n, and\n",
    "lower <= nums[i] + nums[j] <= upper\n",
    " \n",
    "\n",
    "Example 1:\n",
    "\n",
    "Input: nums = [0,1,7,4,4,5], lower = 3, upper = 6\n",
    "Output: 6\n",
    "Explanation: There are 6 fair pairs: (0,3), (0,4), (0,5), (1,3), (1,4), and (1,5).\n",
    "Example 2:\n",
    "\n",
    "Input: nums = [1,7,9,2,5], lower = 11, upper = 11\n",
    "Output: 1\n",
    "Explanation: There is a single fair pair: (2,3).\n",
    " \n",
    "\n",
    "Constraints:\n",
    "\n",
    "1 <= nums.length <= 10**5\n",
    "nums.length == n\n",
    "-10**9 <= nums[i] <= 10**9\n",
    "-10**9 <= lower <= upper <= 10**9"
   ]
  },
  {
   "cell_type": "code",
   "execution_count": null,
   "id": "92dd72be",
   "metadata": {},
   "outputs": [],
   "source": [
    "class Solution:\n",
    "    def countFairPairs(self, nums: List[int], lower: int, upper: int) -> int:\n",
    "        nums.sort()\n",
    "        def help(index, boundary):\n",
    "            left = index + 1\n",
    "            right = len(nums) - 1\n",
    "            ans = 0\n",
    "            num = nums[index]\n",
    "            while left <= right:\n",
    "                mid = (left + right) // 2\n",
    "                if (nums[mid] + num) <= boundary:\n",
    "                    ans = mid\n",
    "                    left = mid + 1\n",
    "                else:\n",
    "                    right = mid - 1\n",
    "            return right\n",
    "        count = 0\n",
    "        for i in range(len(nums)):\n",
    "            count += help(i, upper) - help(i, lower-1)\n",
    "        return count"
   ]
  }
 ],
 "metadata": {
  "language_info": {
   "name": "python"
  }
 },
 "nbformat": 4,
 "nbformat_minor": 5
}
